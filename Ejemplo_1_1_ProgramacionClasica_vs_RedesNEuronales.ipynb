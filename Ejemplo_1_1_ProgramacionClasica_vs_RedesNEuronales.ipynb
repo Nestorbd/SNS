{
  "cells": [
    {
      "cell_type": "markdown",
      "metadata": {
        "id": "eHAtx_9vicfn"
      },
      "source": [
        "# Pensamiento cumputacional: Programación clásica Vs Maching Learnig"
      ]
    },
    {
      "cell_type": "markdown",
      "metadata": {
        "id": "W44PgYZAkPIB"
      },
      "source": [
        "**Pensamiento computacional**: Es el proceso de pensamiento que permite formular o resolver problemas del mundo que nos rodea haciendo uso de habilidades y técnicas, como las secuencias e instrucciones ordenadas (algoritmos), para llegar a la solución. Por lo tanto es una habilidad cognitiva.\n",
        "\n",
        "**Programación clásica:**  Una persona escribe un conjunto de instrucciones (código) que le dicen al ordenador cómo realizar una tarea específica. La persona ejecuta las instrucciones para producir un resultado.\n",
        "\n",
        "**Maching learning:** Se proporciona al ordenador un conjunto de datos y se le enseña a reconocer patrones o relaciones en esos datos. A partir de esta \"aprendizaje\", el programa puede hacer predicciones o decisiones por sí mismo. (Con un porcentaje o probadilidad de acierto) y que en muchas ocasiones no está cerca del 100% o del 1"
      ]
    },
    {
      "cell_type": "markdown",
      "metadata": {
        "id": "VkRSYtE7jFJS"
      },
      "source": [
        "En este primer ejemplo aplicamos la técnica de Programación clásica\n"
      ]
    },
    {
      "cell_type": "code",
      "execution_count": 3,
      "metadata": {
        "colab": {
          "base_uri": "https://localhost:8080/"
        },
        "id": "j4-99adEiurC",
        "outputId": "c956f4e4-9917-4cd2-c855-8b241c806ae0"
      },
      "outputs": [
        {
          "name": "stdout",
          "output_type": "stream",
          "text": [
            "¡Bienvenidos y bienvenidas al juego Adivina el número secreto!\n",
            "Trata de averiguar el número misterioso que acabo de pensar...\n",
            "Solo puedo decirte que está entre 1 y 100\n",
            "El número secreto es menor...\n",
            "El número secreto es mayor...\n",
            "El número secreto es menor...\n",
            "El número secreto es mayor...\n",
            "El número secreto es mayor...\n",
            "El número secreto es mayor...\n",
            "¡Toma! ¡Felicidades!\n",
            "Has necesitado {contador} intentos\n"
          ]
        }
      ],
      "source": [
        "# Programa: Adivina el número secreto\n",
        "\n",
        "# Importamos la función randint, de generación de números enteros aleatorios,\n",
        "# de la librería random\n",
        "from random import randint\n",
        "\n",
        "# Generamos un número aleatorio entre 1 y 100\n",
        "numero_secreto = randint(1,100)\n",
        "\n",
        "# Saludamos al usuario o usuaria\n",
        "print(\"¡Bienvenidos y bienvenidas al juego Adivina el número secreto!\")\n",
        "print(\"Trata de averiguar el número misterioso que acabo de pensar...\")\n",
        "print(\"Solo puedo decirte que está entre 1 y 100\")\n",
        "\n",
        "\n",
        "\n",
        "# Inicializamos la variable apuesta a un valor imposible\n",
        "apuesta = -1\n",
        "#Inicializamos la variable contadora de intento\n",
        "contador = 0\n",
        "# Creamos bucle de juego\n",
        "while apuesta != numero_secreto:\n",
        "\n",
        "    apuesta = int(input(\"¿Cuál crees que es el número secreto? \"))\n",
        "    contador = contador + 1\n",
        "\n",
        "    if apuesta == numero_secreto:\n",
        "        print(\"¡Toma! ¡Felicidades!\")\n",
        "        print (\"Has necesitado {} intentos\".format(contador))\n",
        "\n",
        "    else:\n",
        "        if apuesta < numero_secreto:\n",
        "            print(\"El número secreto es mayor...\")\n",
        "        else:\n",
        "            print(\"El número secreto es menor...\")\n"
      ]
    },
    {
      "cell_type": "markdown",
      "metadata": {
        "id": "vtSR8fMe2VlS"
      },
      "source": [
        "En este primer ejemplo aplicamos la técnica de Programación clásica"
      ]
    },
    {
      "cell_type": "markdown",
      "metadata": {
        "id": "HLadjLQ6HWfO"
      },
      "source": [
        "**Clasificación de imágenes de prendas de ropa con redes neuronales densas**\n",
        "\n",
        "---\n",
        "<div align=\"center\"><img src=\"https://github.com/zalandoresearch/fashion-mnist/blob/master/doc/img/fashion-mnist-sprite.png?raw=true\"></div>\n",
        "\n",
        "---\n"
      ]
    },
    {
      "cell_type": "code",
      "execution_count": 4,
      "metadata": {
        "id": "WtaZ5IsDGK1l"
      },
      "outputs": [
        {
          "ename": "ModuleNotFoundError",
          "evalue": "No module named 'keras'",
          "output_type": "error",
          "traceback": [
            "\u001b[1;31m---------------------------------------------------------------------------\u001b[0m",
            "\u001b[1;31mModuleNotFoundError\u001b[0m                       Traceback (most recent call last)",
            "\u001b[1;32md:\\SNS\\Ejemplo_1_1_ProgramacionClasica_vs_RedesNEuronales.ipynb Celda 7\u001b[0m line \u001b[0;36m8\n\u001b[0;32m      <a href='vscode-notebook-cell:/d%3A/SNS/Ejemplo_1_1_ProgramacionClasica_vs_RedesNEuronales.ipynb#W6sZmlsZQ%3D%3D?line=0'>1</a>\u001b[0m \u001b[39m# Clasificación de imágenes de prendas de ropa por IA -> Aprendizaje Automático -> Deep Learning / Aprendizaje profundo --> Redes neuronales densas\u001b[39;00m\n\u001b[0;32m      <a href='vscode-notebook-cell:/d%3A/SNS/Ejemplo_1_1_ProgramacionClasica_vs_RedesNEuronales.ipynb#W6sZmlsZQ%3D%3D?line=1'>2</a>\u001b[0m \n\u001b[0;32m      <a href='vscode-notebook-cell:/d%3A/SNS/Ejemplo_1_1_ProgramacionClasica_vs_RedesNEuronales.ipynb#W6sZmlsZQ%3D%3D?line=2'>3</a>\u001b[0m \u001b[39m# Consulta del dataset\u001b[39;00m\n\u001b[1;32m   (...)\u001b[0m\n\u001b[0;32m      <a href='vscode-notebook-cell:/d%3A/SNS/Ejemplo_1_1_ProgramacionClasica_vs_RedesNEuronales.ipynb#W6sZmlsZQ%3D%3D?line=5'>6</a>\u001b[0m \n\u001b[0;32m      <a href='vscode-notebook-cell:/d%3A/SNS/Ejemplo_1_1_ProgramacionClasica_vs_RedesNEuronales.ipynb#W6sZmlsZQ%3D%3D?line=6'>7</a>\u001b[0m \u001b[39m# Cargar las librerías Tensorflow, Numpy y Matplotlib\u001b[39;00m\n\u001b[1;32m----> <a href='vscode-notebook-cell:/d%3A/SNS/Ejemplo_1_1_ProgramacionClasica_vs_RedesNEuronales.ipynb#W6sZmlsZQ%3D%3D?line=7'>8</a>\u001b[0m \u001b[39mimport\u001b[39;00m \u001b[39mkeras\u001b[39;00m\n\u001b[0;32m      <a href='vscode-notebook-cell:/d%3A/SNS/Ejemplo_1_1_ProgramacionClasica_vs_RedesNEuronales.ipynb#W6sZmlsZQ%3D%3D?line=8'>9</a>\u001b[0m \u001b[39mfrom\u001b[39;00m \u001b[39mkeras\u001b[39;00m\u001b[39m.\u001b[39;00m\u001b[39mdatasets\u001b[39;00m \u001b[39mimport\u001b[39;00m fashion_mnist\n\u001b[0;32m     <a href='vscode-notebook-cell:/d%3A/SNS/Ejemplo_1_1_ProgramacionClasica_vs_RedesNEuronales.ipynb#W6sZmlsZQ%3D%3D?line=9'>10</a>\u001b[0m \u001b[39mfrom\u001b[39;00m \u001b[39mkeras\u001b[39;00m\u001b[39m.\u001b[39;00m\u001b[39mmodels\u001b[39;00m \u001b[39mimport\u001b[39;00m Sequential\n",
            "\u001b[1;31mModuleNotFoundError\u001b[0m: No module named 'keras'"
          ]
        }
      ],
      "source": [
        "# Clasificación de imágenes de prendas de ropa por IA -> Aprendizaje Automático -> Deep Learning / Aprendizaje profundo --> Redes neuronales densas\n",
        "\n",
        "# Consulta del dataset\n",
        "# https://www.tensorflow.org/datasets/catalog/fashion_mnist?hl=es-419\n",
        "# https://github.com/zalandoresearch/fashion-mnist\n",
        "\n",
        "# Cargar las librerías Tensorflow, Numpy y Matplotlib\n",
        "import keras\n",
        "from keras.datasets import fashion_mnist\n",
        "from keras.models import Sequential\n",
        "from keras.layers import Dense, Dropout\n",
        "import tensorflow as tf\n",
        "import matplotlib.pyplot as plt\n",
        "import numpy as np\n"
      ]
    },
    {
      "cell_type": "code",
      "execution_count": null,
      "metadata": {
        "colab": {
          "base_uri": "https://localhost:8080/"
        },
        "id": "8B8JX2194lo5",
        "outputId": "98721b44-6852-47c1-d142-442231cf3a15"
      },
      "outputs": [
        {
          "name": "stdout",
          "output_type": "stream",
          "text": [
            "Downloading data from https://storage.googleapis.com/tensorflow/tf-keras-datasets/train-labels-idx1-ubyte.gz\n",
            "29515/29515 [==============================] - 0s 0us/step\n",
            "Downloading data from https://storage.googleapis.com/tensorflow/tf-keras-datasets/train-images-idx3-ubyte.gz\n",
            "26421880/26421880 [==============================] - 0s 0us/step\n",
            "Downloading data from https://storage.googleapis.com/tensorflow/tf-keras-datasets/t10k-labels-idx1-ubyte.gz\n",
            "5148/5148 [==============================] - 0s 0us/step\n",
            "Downloading data from https://storage.googleapis.com/tensorflow/tf-keras-datasets/t10k-images-idx3-ubyte.gz\n",
            "4422102/4422102 [==============================] - 0s 0us/step\n"
          ]
        }
      ],
      "source": [
        "# Carga el datset y realiza la división entre tarin t test\n",
        "(x_train, y_train), (x_test, y_test) = fashion_mnist.load_data()"
      ]
    },
    {
      "cell_type": "code",
      "execution_count": null,
      "metadata": {
        "colab": {
          "base_uri": "https://localhost:8080/",
          "height": 428
        },
        "id": "Ym06CyYP33T6",
        "outputId": "a87f1d81-0178-4e13-91de-cea5e1a1f597"
      },
      "outputs": [
        {
          "data": {
            "image/png": "[encoded data removed]",
            "text/plain": [
              "<Figure size 640x480 with 1 Axes>"
            ]
          },
          "metadata": {},
          "output_type": "display_data"
        }
      ],
      "source": [
        "# Para visualizar una imagen\n",
        "class_labels = ['T-shirt/top', 'Trouser', 'Pullover', 'Dress', 'Coat',\n",
        "                'Sandal', 'Shirt', 'Sneaker', 'Bag', 'Ankle boot']\n",
        "\n",
        "# Elige un índice de imagen para visualizar\n",
        "index = 11\n",
        "# Muestra la imagen y su etiqueta\n",
        "plt.imshow(x_train[index], cmap='gray')\n",
        "plt.title(class_labels[y_train[index]])\n",
        "plt.axis('off')\n",
        "plt.show()"
      ]
    },
    {
      "cell_type": "code",
      "execution_count": null,
      "metadata": {
        "colab": {
          "base_uri": "https://localhost:8080/"
        },
        "id": "BywoTpFW4FKt",
        "outputId": "b84468bd-c8a1-464f-935a-407b64f2bb56"
      },
      "outputs": [
        {
          "name": "stdout",
          "output_type": "stream",
          "text": [
            "[[  0   0   0   0   0   0   0   0   0   0   0   0   0   0  39 111  93  85  27   0   0   0   0   0   1   0   0   0]\n",
            " [  0   0   0   0   0   0   0   0   0   0   0   1   0   0 190 244 248 255 255 155 202 212 150   9   0   3   0   0]\n",
            " [  0   0   0   0   0   0   0   0   0   0   0   2   0   0 213 227 233 227 243 246 255 250 255 146   0   9   0   0]\n",
            " [  0   0   0   0   0   0   0   0   0   0   0   4   0   6 244 233 236 244 232 214 248 242 251  33   0   7   0   0]\n",
            " [  0   0   0   0   0   0   0   0   0   0   1   6   0  72 255 231 239 244 237 226 255 252 207  44  24   0   2   0]\n",
            " [  0   0   0   0   0   0   0   0   0   0   0   0   0 125 231 215 253 252 234 246 254 239 128 114  63   0   3   0]\n",
            " [  0   0   0   0   0   0   0   0   0   0   1   0   0 189 230 198 185 219 218 255 206 255 133  31   0   0   0   0]\n",
            " [  0   0   0   0   0   0   0   0   0   0   4   0   0 224 241 255 236 237 223 191 219 166   0   0   1   0   0   0]\n",
            " [  0   0   0   0   0   0   0   0   0   0   1   0  61 245 202 220 237 220 242 199 255 178   0   0   1   0   0   0]\n",
            " [  0   0   0   0   0   0   0   0   0   0   0   0 153 247 205 202 212 207 225 190 255  93 141   0   0   1   0   0]\n",
            " [  0   0   0   0   0   0   0   0   0   3   0   0 222 228 233 243 248 242 242 209 255   0  90 177   0   0   0   0]\n",
            " [  0   0   0   0   0   0   0   0   0   2   0  46 255 221 235 235 213 248 220 206 255 225  28 255   0   0   0   0]\n",
            " [  0   0   0   0   0   0   0   0   0   0   0 116 250 215 227 231 226 255 195 216 250 255 159 255 160   0   0   0]\n",
            " [  0   0   0   0   0   0   0   0   3   0   7 226 202 241 247 241 228 255 175 229 252 241 255 224 224  76   0   0]\n",
            " [  0   0   0   0   0   0   0   0   0   0 131 255 210 212 251 252 229 255 175 227 254 239 245 230 223 149  90   0]\n",
            " [  0   0   0   0   0   0   0   2   0   0 227 238 238 225 205 242 246 223 187 221 254 238 255 233 156   0   0   0]\n",
            " [  0   0   0   0   0   1   0   0   0  77 255 239 248 252 237 195 201 232 190 205 252 235 255 199   0   0   0   0]\n",
            " [  0   0   0   0   0   0   0   0   0 207 223 186 215 223 255 255 217 229 254 251 244 240 255 207   0   0   1   0]\n",
            " [  0   0   0   0   0   0   2   0  53 254 234 239 222 190 187 200 250 237 195 251 250 237 253 192   0   0   0   0]\n",
            " [  0   0   0   2   4   2   0   0 190 247 233 231 250 254 247 208 208 231 226 207 246 235 248 175   0   0   0   0]\n",
            " [  0   1   6   0   0   0   0 117 245 184 242 238 235 238 244 233 255 255  99 155 255 233 252 154   0   0   0   0]\n",
            " [  0   0   0   0   3  33 141 255 197 208 184 234 246 240 243 231 255  77   0 172 255 231 253 139   0   1   0   0]\n",
            " [  0   0  84 243 246 255 254 240 241 190 229 198 243 244 238 255  80   0   0 176 255 231 252 113   0   3   0   0]\n",
            " [  0  25 223 239 230 231 231 234 241 247 191 225 230 252 255 173   0   0   0 170 255 228 251  97   0   4   0   0]\n",
            " [  0 103 241 217 228 230 238 241 238 248 244 216 172 223 255   0   0   7   0 159 255 234 251  74   0   4   0   0]\n",
            " [  0   9 188 229 242 241 243 240 236 238 241 251 237 253  64   0   0   3   0 154 255 229 255  62   0   7   0   0]\n",
            " [  0   0   0  28 123 199 249 255 255 255 255 255 245  72   0   0   0   3   0 117 255 245 220  19   0   4   0   0]\n",
            " [  0   0   0   0   0   0   0  38  72  89  71  37   0   0   0   0   0   3   0   0  64  42  24   0   0   0   0   0]]\n"
          ]
        }
      ],
      "source": [
        "np.set_printoptions(linewidth=np.inf) # Para evitar que se dividan las filas en la celda de  resultado\n",
        "print (x_train[index])"
      ]
    },
    {
      "cell_type": "code",
      "execution_count": null,
      "metadata": {
        "id": "glGTOnb84y41"
      },
      "outputs": [],
      "source": [
        "x_train = x_train / 255.0 # Normaliza entre 0 y 1, ya que la escala de grises es con 255 valores.\n",
        "                          # En el contexto de las imágenes, los valores de los píxeles suelen ser enteros en el rango de 0 a 255, donde 0 representa el negro y 255 representa el blanco.\n",
        "                          # Al dividir los valores de los píxeles por 255, se realiza una normalización que escala los valores a un rango de 0 a 1.\n",
        "                          # Las redes neuronales funcionan mejor con valores comprendidos en el rango entre 0 y 1\n",
        "x_test = x_test / 255.0"
      ]
    },
    {
      "cell_type": "code",
      "execution_count": null,
      "metadata": {
        "colab": {
          "base_uri": "https://localhost:8080/"
        },
        "id": "3j6h2BFK5TA3",
        "outputId": "d1a85b84-71d0-4af2-f73f-e06e61edf595"
      },
      "outputs": [
        {
          "name": "stdout",
          "output_type": "stream",
          "text": [
            "Model: \"sequential\"\n",
            "_________________________________________________________________\n",
            " Layer (type)                Output Shape              Param #   \n",
            "=================================================================\n",
            " flatten (Flatten)           (None, 784)               0         \n",
            "                                                                 \n",
            " dense (Dense)               (None, 128)               100480    \n",
            "                                                                 \n",
            " dense_1 (Dense)             (None, 64)                8256      \n",
            "                                                                 \n",
            " dense_2 (Dense)             (None, 10)                650       \n",
            "                                                                 \n",
            "=================================================================\n",
            "Total params: 109386 (427.29 KB)\n",
            "Trainable params: 109386 (427.29 KB)\n",
            "Non-trainable params: 0 (0.00 Byte)\n",
            "_________________________________________________________________\n",
            "Epoch 1/20\n",
            "1500/1500 [==============================] - 12s 7ms/step - loss: 0.7933 - accuracy: 0.7404 - val_loss: 0.5610 - val_accuracy: 0.8052\n",
            "Epoch 2/20\n",
            "1500/1500 [==============================] - 5s 3ms/step - loss: 0.5150 - accuracy: 0.8216 - val_loss: 0.4804 - val_accuracy: 0.8299\n",
            "Epoch 3/20\n",
            "1500/1500 [==============================] - 5s 3ms/step - loss: 0.4646 - accuracy: 0.8384 - val_loss: 0.4630 - val_accuracy: 0.8373\n",
            "Epoch 4/20\n",
            "1500/1500 [==============================] - 6s 4ms/step - loss: 0.4382 - accuracy: 0.8473 - val_loss: 0.4250 - val_accuracy: 0.8480\n",
            "Epoch 5/20\n",
            "1500/1500 [==============================] - 5s 3ms/step - loss: 0.4166 - accuracy: 0.8539 - val_loss: 0.4125 - val_accuracy: 0.8534\n",
            "Epoch 6/20\n",
            "1500/1500 [==============================] - 5s 3ms/step - loss: 0.4005 - accuracy: 0.8594 - val_loss: 0.4041 - val_accuracy: 0.8539\n",
            "Epoch 7/20\n",
            "1500/1500 [==============================] - 5s 4ms/step - loss: 0.3873 - accuracy: 0.8636 - val_loss: 0.4130 - val_accuracy: 0.8536\n",
            "Epoch 8/20\n",
            "1500/1500 [==============================] - 5s 3ms/step - loss: 0.3757 - accuracy: 0.8664 - val_loss: 0.3843 - val_accuracy: 0.8651\n",
            "Epoch 9/20\n",
            "1500/1500 [==============================] - 6s 4ms/step - loss: 0.3653 - accuracy: 0.8708 - val_loss: 0.3843 - val_accuracy: 0.8637\n",
            "Epoch 10/20\n",
            "1500/1500 [==============================] - 5s 3ms/step - loss: 0.3567 - accuracy: 0.8733 - val_loss: 0.3893 - val_accuracy: 0.8624\n",
            "Epoch 11/20\n",
            "1500/1500 [==============================] - 6s 4ms/step - loss: 0.3472 - accuracy: 0.8767 - val_loss: 0.3629 - val_accuracy: 0.8708\n",
            "Epoch 12/20\n",
            "1500/1500 [==============================] - 6s 4ms/step - loss: 0.3396 - accuracy: 0.8784 - val_loss: 0.3711 - val_accuracy: 0.8668\n",
            "Epoch 13/20\n",
            "1500/1500 [==============================] - 5s 3ms/step - loss: 0.3336 - accuracy: 0.8804 - val_loss: 0.3639 - val_accuracy: 0.8711\n",
            "Epoch 14/20\n",
            "1500/1500 [==============================] - 6s 4ms/step - loss: 0.3266 - accuracy: 0.8837 - val_loss: 0.3586 - val_accuracy: 0.8733\n",
            "Epoch 15/20\n",
            "1500/1500 [==============================] - 5s 3ms/step - loss: 0.3199 - accuracy: 0.8856 - val_loss: 0.3578 - val_accuracy: 0.8733\n",
            "Epoch 16/20\n",
            "1500/1500 [==============================] - 5s 3ms/step - loss: 0.3139 - accuracy: 0.8871 - val_loss: 0.3612 - val_accuracy: 0.8707\n",
            "Epoch 17/20\n",
            "1500/1500 [==============================] - 7s 4ms/step - loss: 0.3084 - accuracy: 0.8902 - val_loss: 0.3522 - val_accuracy: 0.8734\n",
            "Epoch 18/20\n",
            "1500/1500 [==============================] - 5s 3ms/step - loss: 0.3028 - accuracy: 0.8918 - val_loss: 0.3407 - val_accuracy: 0.8801\n",
            "Epoch 19/20\n",
            "1500/1500 [==============================] - 6s 4ms/step - loss: 0.2979 - accuracy: 0.8934 - val_loss: 0.3544 - val_accuracy: 0.8725\n",
            "Epoch 20/20\n",
            "1500/1500 [==============================] - 5s 3ms/step - loss: 0.2935 - accuracy: 0.8940 - val_loss: 0.3385 - val_accuracy: 0.8802\n"
          ]
        }
      ],
      "source": [
        "# Definimos la red neuronal\n",
        "#  Aplicando función de activación: ReLU\n",
        "model = keras.Sequential([\n",
        "                          keras.layers.Flatten(input_shape=(28, 28)),\n",
        "                          keras.layers.Dense(128, activation='relu'),\n",
        "                          keras.layers.Dense(64, activation='relu'),\n",
        "                          keras.layers.Dense(10, activation='softmax')\n",
        "                        ])\n",
        "model.summary()\n",
        "model.compile(optimizer='sgd',\n",
        "              loss='sparse_categorical_crossentropy',\n",
        "              metrics=['accuracy'])\n",
        "\n",
        "#Entranamos la red neuronal\n",
        "history=model.fit(x_train, y_train, epochs=20, validation_split = 0.2)"
      ]
    },
    {
      "cell_type": "code",
      "execution_count": null,
      "metadata": {
        "colab": {
          "base_uri": "https://localhost:8080/"
        },
        "id": "tWURFlDv7Pcg",
        "outputId": "1917994f-3b35-4bba-d47a-da44a741f5bb"
      },
      "outputs": [
        {
          "name": "stdout",
          "output_type": "stream",
          "text": [
            "Test loss: 0.35981041193008423\n",
            "Test accuracy: 0.870199978351593\n"
          ]
        }
      ],
      "source": [
        "# Evaluamos la red entrenada con los datos de test\n",
        "score = model.evaluate(x_test, y_test, verbose=0)\n",
        "print('Test loss:', score[0])\n",
        "print('Test accuracy:', score[1])"
      ]
    },
    {
      "cell_type": "code",
      "execution_count": null,
      "metadata": {
        "id": "ceBARZDB8giH"
      },
      "outputs": [],
      "source": [
        "# Ejercicio: Prueba a entrenar la red neuronal sin normalizar los valores de los data sets. ¿qué valor obtiene el accuracy?"
      ]
    },
    {
      "cell_type": "markdown",
      "metadata": {
        "id": "FjbBthtzcA0u"
      },
      "source": [
        "# Realizemos las predicciones"
      ]
    },
    {
      "cell_type": "code",
      "execution_count": null,
      "metadata": {
        "colab": {
          "base_uri": "https://localhost:8080/"
        },
        "id": "2pD1OVqDg-Ql",
        "outputId": "c5d499a5-be98-4cce-8b05-d35e96d0e493"
      },
      "outputs": [
        {
          "name": "stdout",
          "output_type": "stream",
          "text": [
            "313/313 [==============================] - 1s 2ms/step\n"
          ]
        }
      ],
      "source": [
        "# En este caso realizamos realizamos la predicción con todo el conjunto de test y posteriormente comprobaremos si la predicción ha sido acertada\n",
        "y_pred = model.predict(x_test)\n",
        "\n"
      ]
    },
    {
      "cell_type": "code",
      "execution_count": null,
      "metadata": {
        "colab": {
          "base_uri": "https://localhost:8080/",
          "height": 928
        },
        "id": "Z8EuAEc2h5Lx",
        "outputId": "7747c652-a40c-4bbb-ea41-056b71f8d0a8"
      },
      "outputs": [
        {
          "data": {
            "image/png": "[encoded data removed]",
            "text/plain": [
              "<Figure size 640x480 with 1 Axes>"
            ]
          },
          "metadata": {},
          "output_type": "display_data"
        },
        {
          "name": "stdout",
          "output_type": "stream",
          "text": [
            "Probabilidad de cada uno de los posibles valores: [9.5984498e-05 7.9184720e-06 5.1293820e-05 1.8705960e-05 3.1909040e-05 9.9692327e-01 2.8158218e-04 9.9759747e-04 3.8028718e-04 1.2113281e-03]\n",
            "Posición (número) de mayor probabilidad: 5\n",
            "Nombre del objeto: Sandal\n",
            "Suma de todas las probabilidades calculada para posible etiqueta/clase: 0.9999998807907104\n"
          ]
        },
        {
          "data": {
            "image/png": "[encoded data removed]",
            "text/plain": [
              "<Figure size 640x480 with 1 Axes>"
            ]
          },
          "metadata": {},
          "output_type": "display_data"
        }
      ],
      "source": [
        "# Vamnos a realizar una predicción utilizando uno de los ejemplos que tenemos disponibles en los datos de test\n",
        "# Para ello visualizaremos primero un elemento y posteriormente comprobaremos si el modelo lo puede predecir e identificar (clasificar) correctamente\n",
        "\n",
        "# Elige un índice de imagen para visualizar y que se intentará predecir\n",
        "index = 11\n",
        "# index = 12\n",
        "# index = 13\n",
        "\n",
        "# Muestra la imagen y su etiqueta\n",
        "plt.imshow(x_test[index], cmap='gray')\n",
        "plt.title(f\"Objeto a predecir: {class_labels[y_test[index]]}\")\n",
        "plt.axis('off')\n",
        "plt.show()\n",
        "\n",
        "\n",
        "# La imagen de la posición 11 es un \"Sandal\", que es lo que debería devolver la predicción\n",
        "# Muestra el array de probabilidades del elemento buscado\n",
        "print(f\"Probabilidad de cada uno de los posibles valores: {y_pred[index]}\")\n",
        "# Muestra la posición (número) de mayor probabilidad\n",
        "max_prob = np.argmax(y_pred[index])\n",
        "print(f\"Posición (número) de mayor probabilidad: {max_prob}\")\n",
        "print (f\"Nombre del objeto: {class_labels[max_prob]}\")\n",
        "# Muestra la suma de todas las probabilidades calculada para posible etiqueta/clase\n",
        "\n",
        "print(f\"Suma de todas las probabilidades calculada para posible etiqueta/clase: {np.sum(y_pred[index])}\")\n",
        "\n",
        "# Muestra la imagen a predecir y la etiqueta predicha\n",
        "plt.imshow(x_test[index], cmap='gray')\n",
        "plt.title(f\"Objeto predicho: {class_labels[max_prob]}\")\n",
        "plt.axis('off')\n",
        "plt.show()"
      ]
    },
    {
      "cell_type": "code",
      "execution_count": null,
      "metadata": {
        "id": "SlFuHX-fbdZU"
      },
      "outputs": [],
      "source": [
        "# Probar a cambiar el valor del objeto / imagen a predecir en la celda anterior y comprobar si la predicción es acertada"
      ]
    }
  ],
  "metadata": {
    "colab": {
      "provenance": [],
      "toc_visible": true
    },
    "kernelspec": {
      "display_name": "Python 3",
      "name": "python3"
    },
    "language_info": {
      "codemirror_mode": {
        "name": "ipython",
        "version": 3
      },
      "file_extension": ".py",
      "mimetype": "text/x-python",
      "name": "python",
      "nbconvert_exporter": "python",
      "pygments_lexer": "ipython3",
      "version": "3.11.5"
    }
  },
  "nbformat": 4,
  "nbformat_minor": 0
}
