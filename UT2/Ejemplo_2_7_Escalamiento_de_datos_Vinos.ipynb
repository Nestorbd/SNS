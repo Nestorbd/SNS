{
  "cells": [
    {
      "cell_type": "markdown",
      "metadata": {
        "id": "JNlEk7ihS-5l"
      },
      "source": [
        "# Escalamiento de datos del data set de vinos\n",
        "\n",
        "Observamos que tras el escalamiento de los datos la distribución de los datos que se muestra en el histograma, antes y después del escalamiento, es la misma.\n",
        "\n",
        "\n"
      ]
    },
    {
      "cell_type": "code",
      "execution_count": 1,
      "metadata": {
        "id": "ZXs_JcsqTF59"
      },
      "outputs": [],
      "source": [
        "# LIBRERÍAS EMPLEADAS EN EL EJEMPLO\n",
        "# Tratamiento de datos\n",
        "# ==============================================================================\n",
        "import numpy as np\n",
        "import pandas as pd\n",
        "# Gráficos\n",
        "# ==============================================================================\n",
        "import matplotlib.pyplot as plt\n",
        "# Preprocesado\n",
        "#==============================================================================\n",
        "from sklearn.compose import ColumnTransformer\n",
        "from sklearn.preprocessing import StandardScaler  # Para el escalamiento Estandarización Z\n",
        "from sklearn.preprocessing import MinMaxScaler # Para el escalamiento por Rangos\n",
        "from sklearn.compose import make_column_selector\n",
        "from sklearn import datasets\n",
        "\n"
      ]
    },
    {
      "cell_type": "code",
      "execution_count": 2,
      "metadata": {
        "colab": {
          "base_uri": "https://localhost:8080/",
          "height": 424
        },
        "id": "wSVUyiBKHNE6",
        "outputId": "6382e537-bc01-4e52-db1e-0a147861c5a9"
      },
      "outputs": [
        {
          "data": {
            "text/html": [
              "<div>\n",
              "<style scoped>\n",
              "    .dataframe tbody tr th:only-of-type {\n",
              "        vertical-align: middle;\n",
              "    }\n",
              "\n",
              "    .dataframe tbody tr th {\n",
              "        vertical-align: top;\n",
              "    }\n",
              "\n",
              "    .dataframe thead th {\n",
              "        text-align: right;\n",
              "    }\n",
              "</style>\n",
              "<table border=\"1\" class=\"dataframe\">\n",
              "  <thead>\n",
              "    <tr style=\"text-align: right;\">\n",
              "      <th></th>\n",
              "      <th>alcohol_original</th>\n",
              "      <th>Data_alcohol_SS</th>\n",
              "      <th>Data_alcohol_RR</th>\n",
              "    </tr>\n",
              "  </thead>\n",
              "  <tbody>\n",
              "    <tr>\n",
              "      <th>0</th>\n",
              "      <td>14.23</td>\n",
              "      <td>1.518613</td>\n",
              "      <td>0.842105</td>\n",
              "    </tr>\n",
              "    <tr>\n",
              "      <th>1</th>\n",
              "      <td>13.20</td>\n",
              "      <td>0.246290</td>\n",
              "      <td>0.571053</td>\n",
              "    </tr>\n",
              "    <tr>\n",
              "      <th>2</th>\n",
              "      <td>13.16</td>\n",
              "      <td>0.196879</td>\n",
              "      <td>0.560526</td>\n",
              "    </tr>\n",
              "    <tr>\n",
              "      <th>3</th>\n",
              "      <td>14.37</td>\n",
              "      <td>1.691550</td>\n",
              "      <td>0.878947</td>\n",
              "    </tr>\n",
              "    <tr>\n",
              "      <th>4</th>\n",
              "      <td>13.24</td>\n",
              "      <td>0.295700</td>\n",
              "      <td>0.581579</td>\n",
              "    </tr>\n",
              "    <tr>\n",
              "      <th>...</th>\n",
              "      <td>...</td>\n",
              "      <td>...</td>\n",
              "      <td>...</td>\n",
              "    </tr>\n",
              "    <tr>\n",
              "      <th>173</th>\n",
              "      <td>13.71</td>\n",
              "      <td>0.876275</td>\n",
              "      <td>0.705263</td>\n",
              "    </tr>\n",
              "    <tr>\n",
              "      <th>174</th>\n",
              "      <td>13.40</td>\n",
              "      <td>0.493343</td>\n",
              "      <td>0.623684</td>\n",
              "    </tr>\n",
              "    <tr>\n",
              "      <th>175</th>\n",
              "      <td>13.27</td>\n",
              "      <td>0.332758</td>\n",
              "      <td>0.589474</td>\n",
              "    </tr>\n",
              "    <tr>\n",
              "      <th>176</th>\n",
              "      <td>13.17</td>\n",
              "      <td>0.209232</td>\n",
              "      <td>0.563158</td>\n",
              "    </tr>\n",
              "    <tr>\n",
              "      <th>177</th>\n",
              "      <td>14.13</td>\n",
              "      <td>1.395086</td>\n",
              "      <td>0.815789</td>\n",
              "    </tr>\n",
              "  </tbody>\n",
              "</table>\n",
              "<p>178 rows × 3 columns</p>\n",
              "</div>"
            ],
            "text/plain": [
              "     alcohol_original  Data_alcohol_SS  Data_alcohol_RR\n",
              "0               14.23         1.518613         0.842105\n",
              "1               13.20         0.246290         0.571053\n",
              "2               13.16         0.196879         0.560526\n",
              "3               14.37         1.691550         0.878947\n",
              "4               13.24         0.295700         0.581579\n",
              "..                ...              ...              ...\n",
              "173             13.71         0.876275         0.705263\n",
              "174             13.40         0.493343         0.623684\n",
              "175             13.27         0.332758         0.589474\n",
              "176             13.17         0.209232         0.563158\n",
              "177             14.13         1.395086         0.815789\n",
              "\n",
              "[178 rows x 3 columns]"
            ]
          },
          "execution_count": 2,
          "metadata": {},
          "output_type": "execute_result"
        }
      ],
      "source": [
        "#Carga del dataset de diabetes\n",
        "# Titulo: Wine recognition dataset\n",
        "# Url: https://scikit-learn.org/stable/datasets/toy_dataset.html#wine-recognition-dataset\n",
        "\n",
        "X, y= datasets.load_wine(return_X_y=True)\n",
        "df_wines = datasets.load_wine(as_frame=True)\n",
        "\n",
        "# Selecciona la segunda columna: bmi body mass index\n",
        "raw = X[:, None,0]\n",
        "\n",
        "Data_alcohol = pd.DataFrame(raw, columns=['alcohol'])\n",
        "\n",
        "# Escalamiento\n",
        "# ==============================================================================\n",
        "# Selección de columnas numéricas\n",
        "numeric_cols = Data_alcohol.select_dtypes(include=['float64', 'int']).columns.to_list()\n",
        "# Standard scaler - Definimos el tipo de escalamientoa realizar: estandarización Z-score\n",
        "preprocessor_SS = ColumnTransformer(\n",
        "                   [('scale', StandardScaler(), numeric_cols)],remainder='passthrough')\n",
        "\n",
        "# MinMaxScaler - Definimos el tipo de escalamiento a realizar: Estandarización por rangos\n",
        "preprocessor_RR = ColumnTransformer(\n",
        "                   [('scale', MinMaxScaler(), numeric_cols)],remainder='passthrough')\n",
        "\n",
        "Data_alcohol_prep_SS = preprocessor_SS.fit_transform(Data_alcohol)\n",
        "Data_alcohol_prep_RR = preprocessor_RR.fit_transform(Data_alcohol)\n",
        "\n",
        "# Ponermos en un dataframe las tres columnas para ver las diferencias entre valores no escalados y escalados:\n",
        "# los valores inciciales, y los valores escalados con los dos métodos.\n",
        "Data_alcohol_compared_scaled_array=np.column_stack((raw, Data_alcohol_prep_SS, Data_alcohol_prep_RR))\n",
        "Data_alcohol_compared_scaled_df = pd.DataFrame(Data_alcohol_compared_scaled_array, columns=['alcohol_original', 'Data_alcohol_SS', 'Data_alcohol_RR'])\n",
        "\n",
        "Data_alcohol_compared_scaled_df"
      ]
    },
    {
      "cell_type": "code",
      "execution_count": 3,
      "metadata": {
        "colab": {
          "base_uri": "https://localhost:8080/",
          "height": 472
        },
        "id": "gB5pTCLd3QvU",
        "outputId": "06a39320-7046-4bfe-ba45-1f58ed9daae0"
      },
      "outputs": [
        {
          "data": {
            "image/png": "[encoded data removed]",
            "text/plain": [
              "<Figure size 640x480 with 1 Axes>"
            ]
          },
          "metadata": {},
          "output_type": "display_data"
        }
      ],
      "source": [
        "# Mostramos el histograma\n",
        "plt.hist(raw, 50)\n",
        "plt.ylabel('Número de datos')\n",
        "plt.xlabel('valores')\n",
        "plt.title('Vinos - Histograma antes de escalamiento')\n",
        "plt.show()"
      ]
    },
    {
      "cell_type": "markdown",
      "metadata": {
        "id": "msK4x0lsT9aV"
      },
      "source": [
        "Representacióón de los datos escalado con **Standard Scaler**\n",
        " - Estandariación/Escalamiento por desviación típica\n"
      ]
    },
    {
      "cell_type": "code",
      "execution_count": 4,
      "metadata": {
        "colab": {
          "base_uri": "https://localhost:8080/",
          "height": 472
        },
        "id": "0y6FUrwLUipt",
        "outputId": "abd9a709-b59c-4ab8-b480-da75ed5bbac8"
      },
      "outputs": [
        {
          "data": {
            "image/png": "[encoded data removed]",
            "text/plain": [
              "<Figure size 640x480 with 1 Axes>"
            ]
          },
          "metadata": {},
          "output_type": "display_data"
        }
      ],
      "source": [
        "plt.hist(Data_alcohol_prep_SS, 50)\n",
        "plt.ylabel('Número de datos')\n",
        "plt.xlabel('valores')\n",
        "plt.title('Vinos - Histograma con Standard scaler - Estandarización Z')\n",
        "plt.show()"
      ]
    },
    {
      "cell_type": "markdown",
      "metadata": {
        "id": "AM9ZLM4Vs64f"
      },
      "source": [
        "**NOTA** Observar que las **dos** variables tienen la misma desviación típica (s=1)"
      ]
    },
    {
      "cell_type": "code",
      "execution_count": 5,
      "metadata": {
        "colab": {
          "base_uri": "https://localhost:8080/"
        },
        "id": "kVSO26IL7REf",
        "outputId": "727e764d-280a-40fe-fc6c-019420bcd968"
      },
      "outputs": [
        {
          "data": {
            "text/plain": [
              "1.0"
            ]
          },
          "execution_count": 5,
          "metadata": {},
          "output_type": "execute_result"
        }
      ],
      "source": [
        "Data_alcohol_prep_SS.std()\n"
      ]
    },
    {
      "cell_type": "markdown",
      "metadata": {
        "id": "InNWa2tdV1yb"
      },
      "source": [
        "Representación de los datos escalado con **Min Max Scaler** - Estandariación/Escalamiento por rangos\n",
        "\n"
      ]
    },
    {
      "cell_type": "code",
      "execution_count": 6,
      "metadata": {
        "colab": {
          "base_uri": "https://localhost:8080/",
          "height": 472
        },
        "id": "tb5uNSt5Vgx-",
        "outputId": "c14c76d9-fda5-43db-9345-42729e741f55"
      },
      "outputs": [
        {
          "data": {
            "image/png": "[encoded data removed]",
            "text/plain": [
              "<Figure size 640x480 with 1 Axes>"
            ]
          },
          "metadata": {},
          "output_type": "display_data"
        }
      ],
      "source": [
        "plt.hist(Data_alcohol_prep_RR, 50)\n",
        "plt.ylabel('Número de datos')\n",
        "plt.xlabel('valores')\n",
        "plt.title('Vinos - Histograma con MinMaxScaler - Por Rangos')\n",
        "plt.show()"
      ]
    },
    {
      "cell_type": "markdown",
      "metadata": {
        "id": "oVEusoT3tST1"
      },
      "source": [
        "**NOTA** Observar que las **dos** variables tienen el mismo rango"
      ]
    },
    {
      "cell_type": "code",
      "execution_count": 7,
      "metadata": {
        "colab": {
          "base_uri": "https://localhost:8080/"
        },
        "id": "1wmnQasXIbl3",
        "outputId": "4ed3cdc3-d1b8-4463-ad4e-dae1033502e1"
      },
      "outputs": [
        {
          "data": {
            "text/plain": [
              "1.0"
            ]
          },
          "execution_count": 7,
          "metadata": {},
          "output_type": "execute_result"
        }
      ],
      "source": [
        "#Rango\n",
        "#Data_prep_RR[:,0]\n",
        "np.max(Data_alcohol_prep_RR[:,0])-np.min(Data_alcohol_prep_RR[:,0])"
      ]
    },
    {
      "cell_type": "code",
      "execution_count": 8,
      "metadata": {
        "colab": {
          "base_uri": "https://localhost:8080/"
        },
        "id": "o_RLBkVWIeR4",
        "outputId": "5ca0a1cc-c4b7-4afb-f599-73d8d04c8407"
      },
      "outputs": [
        {
          "data": {
            "text/plain": [
              "4.694006867088876"
            ]
          },
          "execution_count": 8,
          "metadata": {},
          "output_type": "execute_result"
        }
      ],
      "source": [
        "# No tengo claro cómo interpreatra el siguiente cálculo del rango\n",
        "#Rango\n",
        "#Data_prep_SS[:,1]\n",
        "np.max(Data_alcohol_prep_SS[:,0])-np.min(Data_alcohol_prep_SS[:,0])"
      ]
    }
  ],
  "metadata": {
    "colab": {
      "provenance": []
    },
    "kernelspec": {
      "display_name": "Python 3",
      "name": "python3"
    },
    "language_info": {
      "codemirror_mode": {
        "name": "ipython",
        "version": 3
      },
      "file_extension": ".py",
      "mimetype": "text/x-python",
      "name": "python",
      "nbconvert_exporter": "python",
      "pygments_lexer": "ipython3",
      "version": "3.11.5"
    }
  },
  "nbformat": 4,
  "nbformat_minor": 0
}
