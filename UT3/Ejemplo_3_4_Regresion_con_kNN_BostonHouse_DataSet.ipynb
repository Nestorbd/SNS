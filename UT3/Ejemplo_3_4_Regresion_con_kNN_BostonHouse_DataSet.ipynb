{
  "nbformat": 4,
  "nbformat_minor": 0,
  "metadata": {
    "colab": {
      "provenance": []
    },
    "kernelspec": {
      "name": "python3",
      "display_name": "Python 3"
    }
  },
  "cells": [
    {
      "cell_type": "markdown",
      "source": [
        "23_24"
      ],
      "metadata": {
        "id": "K4plqNR6wnL4"
      }
    },
    {
      "cell_type": "markdown",
      "metadata": {
        "id": "OJFRKa5M41ok"
      },
      "source": [
        "# El problema\n",
        "\n",
        "Vamos a utilizar para ello el Boston DataSet\n",
        "\n",
        "## Boston DataSet\n",
        "\n",
        "(Boston Data Set - Repositorio [Index of /ml/machine-learning-databases/housing]\n",
        "\n",
        "Texto extraído de:\n",
        "\n",
        "**Advertencia** El conjunto de datos de precios de la vivienda de Boston tiene un problema ético: como se investigó, los autores de este conjunto de datos diseñaron una variable no invertible \"B\" asumiendo que la autosegregación racial tuvo un impacto positivo en los precios de la vivienda. Además, el objetivo de la investigación que condujo a la creación de este conjunto de datos fue estudiar el impacto de la calidad del aire, pero no brindó una demostración adecuada de la validez de esta suposición.\n",
        "Por lo tanto, los mantenedores de scikit-learn desaconsejan encarecidamente el uso de este conjunto de datos a menos que el propósito del código sea estudiar y educar sobre cuestiones éticas en la ciencia de datos y el aprendizaje automático.\n",
        "\n",
        "Objetivo: Determinar precio de la vivienda.\n",
        "\n",
        "Una vez cargado el conjunto de datos (506 instancias), la descripción del mismo puede obtenerse fácilmente imprimiendo el campo DESCR.\n",
        "\n",
        "***print(boston.DESCR)***\n",
        "Los las características (x) y el objetivo (y) se almacenan en otros campos del conjunto de datos:\n",
        "\n",
        "X_boston , y_boston = boston.data , boston.target\n",
        "\n",
        "\n",
        "Este datasset también se utiliza en el Ejemplo 5.1 - Regresión y Regularización con Scikit-learn\n",
        "\n",
        "# 0. Carga de Datos\n",
        "\n",
        "En este caso los datos nos la facilita la propia API de scikit-learn\n",
        "\n"
      ]
    },
    {
      "cell_type": "code",
      "metadata": {
        "id": "pp9tjdSA6rR5"
      },
      "source": [
        "# No utiulizamos esta sección de código para descargar el dataset porque sklearn lo ha descatalogado de sus librerías.\n",
        "# import some data to play with\n",
        "# from sklearn import datasets\n",
        "# boston = datasets.load_boston()\n",
        "\n",
        "#X = boston.data\n",
        "#y = boston.target\n"
      ],
      "execution_count": null,
      "outputs": []
    },
    {
      "cell_type": "markdown",
      "source": [
        "En la siguiente url se describen cada una de las características:\n",
        "\n",
        "http://lib.stat.cmu.edu/datasets/boston\n",
        "\n",
        " Variables in order:\n",
        " * CRIM     per capita crime rate by town\n",
        " * ZN       proportion of residential land zoned for lots over 25,000 sq.ft.\n",
        " * INDUS    proportion of non-retail business acres per town\n",
        " * CHAS     Charles River dummy variable (= 1 if tract bounds river; 0 otherwise)\n",
        " * NOX      nitric oxides concentration (parts per 10 million)\n",
        " * RM       average number of rooms per dwelling\n",
        " * AGE      proportion of owner-occupied units built prior to 1940\n",
        " * DIS      weighted distances to five Boston employment centres\n",
        " * RAD      index of accessibility to radial highways\n",
        " * TAX      full-value property-tax rate per 10,000 dolars\n",
        " * PTRATIO  pupil-teacher ratio by town\n",
        " * B        1000(Bk - 0.63)^2 where Bk is the proportion of blacks by town\n",
        " * LSTAT    % lower status of the population\n",
        " * MEDV     Median value of owner-occupied homes in $1000's"
      ],
      "metadata": {
        "id": "gkEO2W_LnFBA"
      }
    },
    {
      "cell_type": "code",
      "source": [
        "import pandas as pd\n",
        "import numpy as np\n",
        "data_url = \"http://lib.stat.cmu.edu/datasets/boston\"\n",
        "raw_df = pd.read_csv(data_url, sep=\"\\s+\", skiprows=22, header=None)\n",
        "data = np.hstack([raw_df.values[::2, :], raw_df.values[1::2, :2]])\n",
        "target = raw_df.values[1::2, 2]"
      ],
      "metadata": {
        "id": "dT2_EpP1l_LS"
      },
      "execution_count": null,
      "outputs": []
    },
    {
      "cell_type": "code",
      "source": [
        "data"
      ],
      "metadata": {
        "id": "skq0oJlQmJS_",
        "colab": {
          "base_uri": "https://localhost:8080/"
        },
        "outputId": "74a8ff51-797d-4d17-fab1-fade3d939f2b"
      },
      "execution_count": null,
      "outputs": [
        {
          "output_type": "execute_result",
          "data": {
            "text/plain": [
              "array([[6.3200e-03, 1.8000e+01, 2.3100e+00, ..., 1.5300e+01, 3.9690e+02,\n",
              "        4.9800e+00],\n",
              "       [2.7310e-02, 0.0000e+00, 7.0700e+00, ..., 1.7800e+01, 3.9690e+02,\n",
              "        9.1400e+00],\n",
              "       [2.7290e-02, 0.0000e+00, 7.0700e+00, ..., 1.7800e+01, 3.9283e+02,\n",
              "        4.0300e+00],\n",
              "       ...,\n",
              "       [6.0760e-02, 0.0000e+00, 1.1930e+01, ..., 2.1000e+01, 3.9690e+02,\n",
              "        5.6400e+00],\n",
              "       [1.0959e-01, 0.0000e+00, 1.1930e+01, ..., 2.1000e+01, 3.9345e+02,\n",
              "        6.4800e+00],\n",
              "       [4.7410e-02, 0.0000e+00, 1.1930e+01, ..., 2.1000e+01, 3.9690e+02,\n",
              "        7.8800e+00]])"
            ]
          },
          "metadata": {},
          "execution_count": 3
        }
      ]
    },
    {
      "cell_type": "code",
      "source": [
        "target"
      ],
      "metadata": {
        "id": "Xa1IOgIT2caz"
      },
      "execution_count": null,
      "outputs": []
    },
    {
      "cell_type": "code",
      "source": [
        "feature_names_data= ['CRIM', 'ZN', 'INDUS', 'CHAS', 'NOX', 'RM', 'AGE', 'DIS', 'RAD', 'TAX', 'PTRATIO', 'B', 'LSTAT']\n",
        "feature_names_target= ['MEDV']"
      ],
      "metadata": {
        "id": "rwPT88lC3QX8"
      },
      "execution_count": null,
      "outputs": []
    },
    {
      "cell_type": "code",
      "source": [
        "X = data\n",
        "y = target"
      ],
      "metadata": {
        "id": "tRwIsMVJmc9M"
      },
      "execution_count": null,
      "outputs": []
    },
    {
      "cell_type": "code",
      "source": [
        "# Separamos los datos de test y train\n",
        "from sklearn.model_selection import train_test_split\n",
        "Xtrain, Xtest, ytrain, ytest = train_test_split( X, y, test_size=0.4, random_state=0)\n",
        "\n"
      ],
      "metadata": {
        "id": "kEuZP7wX5jm1"
      },
      "execution_count": null,
      "outputs": []
    },
    {
      "cell_type": "code",
      "source": [
        "# Como propuesta de ejercicio voluntario está el aplicar el cross validation y diferentes valores de distancia y número de vecinos\n",
        "# Similar a Ejemplo_3_4_Clasificación_con_kNN_Iris_DataSet.ipynb\n",
        "\n",
        "# Definimos los paramétros\n",
        "k = 15\n",
        "w = \"uniform\"\n",
        "\n",
        "# 1. elegir regresor\n",
        "from sklearn.neighbors import KNeighborsRegressor # Se utiliza este método porque es un problema de regresión\n",
        "# 2. instanciar el modelo\n",
        "regr = KNeighborsRegressor(k, weights=w)\n",
        "# 3. entrenamiento con los datos\n",
        "regr.fit(Xtrain , ytrain)\n",
        "# 4. predicción con nuevos datos\n",
        "ypred = regr.predict(Xtest)\n"
      ],
      "metadata": {
        "id": "jCKiDQJU50IZ"
      },
      "execution_count": null,
      "outputs": []
    },
    {
      "cell_type": "code",
      "source": [
        "# Obtenemos la calidad de los resultados obtenidos\n",
        "# 5. Evaluación\n",
        "from sklearn import metrics\n",
        "\n",
        "metrics.mean_squared_error(ypred , ytest)"
      ],
      "metadata": {
        "colab": {
          "base_uri": "https://localhost:8080/"
        },
        "id": "-gQn1Nby6D1K",
        "outputId": "aaebd059-03b7-4727-c11b-d814c0c0bf49"
      },
      "execution_count": null,
      "outputs": [
        {
          "output_type": "execute_result",
          "data": {
            "text/plain": [
              "48.588659441707705"
            ]
          },
          "metadata": {},
          "execution_count": 10
        }
      ]
    },
    {
      "cell_type": "code",
      "source": [
        "import matplotlib.pyplot as plt\n",
        "\n",
        "#plt.scatter(ytest, ypred , alpha = 0.3)\n",
        "plt.scatter(ytest, ypred , alpha = 0.3, marker = 'x')\n",
        "plt.plot([0, 50], [0, 50], \"--k\")\n",
        "plt.axis(\"tight\")\n",
        "plt.xlabel(\"True price ($1000s)\")\n",
        "plt.ylabel(\"Predicted price ($1000s)\")\n",
        "\n",
        "# Interpretación de la gráfica:\n",
        "# En la diagonal están los valores de test, y los puntos dispersos son las predicción. De esta forma podemos ver lo cerca/lejos que están los resultados\n",
        "# predichos de los de entrenamiento\n",
        "# Cuanto más cerca están las X de la recta mejor será la predicción.\n"
      ],
      "metadata": {
        "colab": {
          "base_uri": "https://localhost:8080/",
          "height": 466
        },
        "id": "gcCwrXgA77dU",
        "outputId": "64552b25-7b5b-49e2-e0b0-c90525402a5a"
      },
      "execution_count": null,
      "outputs": [
        {
          "output_type": "execute_result",
          "data": {
            "text/plain": [
              "Text(0, 0.5, 'Predicted price ($1000s)')"
            ]
          },
          "metadata": {},
          "execution_count": 11
        },
        {
          "output_type": "display_data",
          "data": {
            "text/plain": [
              "<Figure size 640x480 with 1 Axes>"
            ],
            "image/png": "[encoded data removed]"
          },
          "metadata": {}
        }
      ]
    },
    {
      "cell_type": "markdown",
      "source": [
        "# Ejercicio voluntario\n",
        "\n",
        "Realizar dos variaciones de esta solución, cambiando las variables con las que realizar la predicción, el valor del parámetro de la distancia o la métrica (La métrica por defecto es minkowski). Obtieniendo un documento final en pdf con los diferentes resultados/gráficos y precisión obtenidos. De forma que te permita determinar cuál sería la parametrizaciónn más acertada según las pruebas que has realizado.\n",
        "\n"
      ],
      "metadata": {
        "id": "qc9e9oD2Imql"
      }
    }
  ]
}