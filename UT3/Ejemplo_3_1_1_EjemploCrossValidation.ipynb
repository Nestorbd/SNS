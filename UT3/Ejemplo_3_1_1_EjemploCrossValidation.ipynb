{
  "cells": [
    {
      "cell_type": "markdown",
      "metadata": {
        "id": "gmt8ixeIe0E8"
      },
      "source": [
        "# **Ejemplos de validación cruzada (Cross Validation)**"
      ]
    },
    {
      "cell_type": "markdown",
      "metadata": {
        "id": "ZBDNs-cH0gU5"
      },
      "source": [
        "23_24"
      ]
    },
    {
      "cell_type": "code",
      "execution_count": 9,
      "metadata": {
        "colab": {
          "base_uri": "https://localhost:8080/"
        },
        "id": "8DY0Q-1QC8o3",
        "outputId": "8f20e879-30d3-436a-a884-79016ffb4559"
      },
      "outputs": [
        {
          "name": "stdout",
          "output_type": "stream",
          "text": [
            "--------------------------------\n",
            "Para series NO temporales\n",
            "--------------------------------\n",
            "Indices para train: [ 6  7  8  9 10 11 12 13 14 15 16 17 18 19 20 21 22 23 24 25 26], indice para test [0 1 2 3 4 5]\n",
            "Valores de X_train: ['g' 'h' 'i' 'j' 'k' 'l' 'm' 'n' 'ñ' 'o' 'p' 'q' 'r' 's' 't' 'u' 'v' 'w'\n",
            " 'x' 'y' 'z']  X_test:  ['a' 'b' 'c' 'd' 'e' 'f']\n",
            "Indices para train: [ 0  1  2  3  4  5 12 13 14 15 16 17 18 19 20 21 22 23 24 25 26], indice para test [ 6  7  8  9 10 11]\n",
            "Valores de X_train: ['a' 'b' 'c' 'd' 'e' 'f' 'm' 'n' 'ñ' 'o' 'p' 'q' 'r' 's' 't' 'u' 'v' 'w'\n",
            " 'x' 'y' 'z']  X_test:  ['g' 'h' 'i' 'j' 'k' 'l']\n",
            "Indices para train: [ 0  1  2  3  4  5  6  7  8  9 10 11 17 18 19 20 21 22 23 24 25 26], indice para test [12 13 14 15 16]\n",
            "Valores de X_train: ['a' 'b' 'c' 'd' 'e' 'f' 'g' 'h' 'i' 'j' 'k' 'l' 'q' 'r' 's' 't' 'u' 'v'\n",
            " 'w' 'x' 'y' 'z']  X_test:  ['m' 'n' 'ñ' 'o' 'p']\n",
            "Indices para train: [ 0  1  2  3  4  5  6  7  8  9 10 11 12 13 14 15 16 22 23 24 25 26], indice para test [17 18 19 20 21]\n",
            "Valores de X_train: ['a' 'b' 'c' 'd' 'e' 'f' 'g' 'h' 'i' 'j' 'k' 'l' 'm' 'n' 'ñ' 'o' 'p' 'v'\n",
            " 'w' 'x' 'y' 'z']  X_test:  ['q' 'r' 's' 't' 'u']\n",
            "Indices para train: [ 0  1  2  3  4  5  6  7  8  9 10 11 12 13 14 15 16 17 18 19 20 21], indice para test [22 23 24 25 26]\n",
            "Valores de X_train: ['a' 'b' 'c' 'd' 'e' 'f' 'g' 'h' 'i' 'j' 'k' 'l' 'm' 'n' 'ñ' 'o' 'p' 'q'\n",
            " 'r' 's' 't' 'u']  X_test:  ['v' 'w' 'x' 'y' 'z']\n"
          ]
        }
      ],
      "source": [
        "import numpy as np\n",
        "from sklearn.model_selection import KFold, TimeSeriesSplit\n",
        "import random\n",
        "\n",
        "# En los siguientes ejemplos vamos a ver cómo estas librerías\n",
        "# gestionan/generan los indices de los grupos que va a entrenar con la técnica\n",
        "# de cross validation\n",
        "# Importante: En este código no se aplica/busca un modelo. Sólo vemos cómo se realiza el Cross Validation\n",
        "\n",
        "print('--------------------------------')\n",
        "print('Para series NO temporales')\n",
        "print('--------------------------------')\n",
        "\n",
        "X = np.array(['a', 'b', 'c','d','e', 'f', 'g', 'h', 'i', 'j', 'k',\n",
        "                'l', 'm', 'n', 'ñ', 'o', 'p', 'q', 'r', 's', 't', 'u', 'v',\n",
        "                 'w', 'x', 'y', 'z'])\n",
        "\n",
        "kf = KFold(n_splits=5)\n",
        "#para que genere el indice para el grupo de test de forma aleatoria...\n",
        "#kf = KFold(n_splits=4,shuffle=True,random_state=random.randrange(4))\n",
        "for train_index, test_index in kf.split(X):\n",
        "    print('Indices para train: %s, indice para test %s'% (train_index,test_index))\n",
        "    X_train, X_test = X[train_index], X[test_index]\n",
        "    print('Valores de X_train:', X_train,' X_test: ', X_test)\n"
      ]
    },
    {
      "cell_type": "code",
      "execution_count": 4,
      "metadata": {
        "colab": {
          "base_uri": "https://localhost:8080/"
        },
        "id": "lciDmQnoiU2B",
        "outputId": "f45f37e2-9418-47cb-e282-834d9d1b2000"
      },
      "outputs": [
        {
          "name": "stdout",
          "output_type": "stream",
          "text": [
            "--------------------------------\n",
            "Para series temporales\n",
            "--------------------------------\n",
            "[0 1 2] [3]\n",
            "Valores de X_train: [[1 2]\n",
            " [3 4]\n",
            " [5 6]]  X_test:  [[7 8]]\n",
            "[0 1 2 3] [4]\n",
            "Valores de X_train: [[1 2]\n",
            " [3 4]\n",
            " [5 6]\n",
            " [7 8]]  X_test:  [[ 9 10]]\n",
            "[0 1 2 3 4] [5]\n",
            "Valores de X_train: [[ 1  2]\n",
            " [ 3  4]\n",
            " [ 5  6]\n",
            " [ 7  8]\n",
            " [ 9 10]]  X_test:  [[11 12]]\n"
          ]
        }
      ],
      "source": [
        "print('--------------------------------')\n",
        "print('Para series temporales')\n",
        "print('--------------------------------')\n",
        "\n",
        "# Para series temporales, donde los valores elegidos en cada iteración\n",
        "# no pueden ser aleatorios sino que han de estar ordenados\n",
        "# Es decir, que el modelo no utilizará datos del futuro para\n",
        "# predecir el pasado, sino que prediga el futuro con datos del pasado\n",
        "X  = np.array([[1,2],[3,4],[5,6],[7,8],[9,10],[11,12]])\n",
        "#y = np.array([1,2,3,4,5,6])\n",
        "kfts=TimeSeriesSplit(n_splits=3)\n",
        "# Lo que se obtiene en las variables train_index y test_index, son los indices\n",
        "# de los grupos del array x que se van a entrenar\n",
        "for train_index, test_index in kfts.split(X):\n",
        "    print('%s %s'% (train_index,test_index))\n",
        "    X_train, X_test = X[train_index], X[test_index]\n",
        "    print('Valores de X_train:', X_train,' X_test: ', X_test)\n",
        "\n",
        "    #y_train, y_test = y[train_index], y[test_index]\n",
        "    #print('Valores de y_train:', y_train,' y_test: ', y_test)"
      ]
    }
  ],
  "metadata": {
    "colab": {
      "provenance": []
    },
    "kernelspec": {
      "display_name": "Python 3",
      "name": "python3"
    },
    "language_info": {
      "codemirror_mode": {
        "name": "ipython",
        "version": 3
      },
      "file_extension": ".py",
      "mimetype": "text/x-python",
      "name": "python",
      "nbconvert_exporter": "python",
      "pygments_lexer": "ipython3",
      "version": "3.11.5"
    }
  },
  "nbformat": 4,
  "nbformat_minor": 0
}
